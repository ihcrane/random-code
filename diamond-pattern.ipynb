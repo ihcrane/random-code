{
 "cells": [
  {
   "cell_type": "code",
   "execution_count": 25,
   "id": "c0a08948",
   "metadata": {},
   "outputs": [
    {
     "name": "stdout",
     "output_type": "stream",
     "text": [
      "Please input the width of the diamond: 19\n",
      "         *         \n",
      "        ***        \n",
      "       *****       \n",
      "      *******      \n",
      "     *********     \n",
      "    ***********    \n",
      "   *************   \n",
      "  ***************  \n",
      " ***************** \n",
      "*******************\n",
      " ***************** \n",
      "  ***************  \n",
      "   *************   \n",
      "    ***********    \n",
      "     *********     \n",
      "      *******      \n",
      "       *****       \n",
      "        ***        \n",
      "         *         \n"
     ]
    }
   ],
   "source": [
    "s = ' '\n",
    "a = '*'\n",
    "\n",
    "num = input('Please input the width of the diamond: ')\n",
    "\n",
    "while True:\n",
    "    if num.isdigit():\n",
    "        num = int(num)\n",
    "        break\n",
    "    else:\n",
    "        num = input('Please only input a number: ')\n",
    "        continue\n",
    "\n",
    "half = int(num/2)\n",
    "spaces = half\n",
    "extra = 0\n",
    "for i in range(half+1):\n",
    "    print((s*spaces)+a+(a*extra)+(s*spaces))\n",
    "    extra += 2\n",
    "    spaces -= 1\n",
    "\n",
    "extra -= 2\n",
    "spaces += 1\n",
    "for i in range(half):\n",
    "    spaces += 1\n",
    "    extra -=2\n",
    "    print((s*spaces)+a+(a*extra)+(s*spaces))\n",
    "    \n",
    "\n",
    "    \n"
   ]
  },
  {
   "cell_type": "code",
   "execution_count": null,
   "id": "bd5ef49f",
   "metadata": {},
   "outputs": [],
   "source": []
  }
 ],
 "metadata": {
  "kernelspec": {
   "display_name": "Python 3 (ipykernel)",
   "language": "python",
   "name": "python3"
  },
  "language_info": {
   "codemirror_mode": {
    "name": "ipython",
    "version": 3
   },
   "file_extension": ".py",
   "mimetype": "text/x-python",
   "name": "python",
   "nbconvert_exporter": "python",
   "pygments_lexer": "ipython3",
   "version": "3.9.13"
  }
 },
 "nbformat": 4,
 "nbformat_minor": 5
}
