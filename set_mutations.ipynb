{
 "cells": [
  {
   "cell_type": "code",
   "execution_count": 5,
   "id": "b7ee7747",
   "metadata": {},
   "outputs": [
    {
     "name": "stdout",
     "output_type": "stream",
     "text": [
      "16\n",
      "1 2 3 4 5 6 7 8 9 10 11 12 13 14 24 52\n",
      "4\n",
      "intersection_update 10\n",
      "2 3 5 6 8 9 1 4 7 11\n",
      "{1, 2, 3, 4, 5, 6, 7, 8, 9, 11}\n",
      "update 2\n",
      "55 66\n",
      "{1, 2, 3, 4, 5, 6, 7, 8, 9, 66, 11, 55}\n",
      "symmetric_difference_update 5\n",
      "22 7 35 62 58\n",
      "{1, 2, 3, 4, 5, 6, 8, 9, 66, 11, 35, 22, 55, 58, 62}\n",
      "difference_update 7\n",
      "11 22 35 55 58 62 66\n",
      "{1, 2, 3, 4, 5, 6, 8, 9}\n",
      "38\n"
     ]
    }
   ],
   "source": [
    "len_a = input()\n",
    "a = set(map(int, input().split()))\n",
    "command_num = int(input())\n",
    "\n",
    "for i in range(command_num):\n",
    "    command = input().split()\n",
    "    b = set(map(int, input().split()))\n",
    "    if command[0] == 'intersection_update':\n",
    "        a.intersection_update(b)\n",
    "    elif command[0] == 'update':\n",
    "        a.update(b)\n",
    "    elif command[0] == 'symmetric_difference_update':\n",
    "        a.symmetric_difference_update(b)\n",
    "    elif command[0] == 'difference_update':\n",
    "        a.difference_update(b)\n",
    "\n",
    "print(sum(a))"
   ]
  },
  {
   "cell_type": "code",
   "execution_count": null,
   "id": "5de6b369",
   "metadata": {},
   "outputs": [],
   "source": [
    "16\n",
    "1 2 3 4 5 6 7 8 9 10 11 12 13 14 24 52\n",
    "4\n",
    "intersection_update 10\n",
    "2 3 5 6 8 9 1 4 7 11\n",
    "update 2\n",
    "55 66\n",
    "symmetric_difference_update 5\n",
    "22 7 35 62 58\n",
    "difference_update 7\n",
    "11 22 35 55 58 62 66"
   ]
  }
 ],
 "metadata": {
  "kernelspec": {
   "display_name": "Python 3 (ipykernel)",
   "language": "python",
   "name": "python3"
  },
  "language_info": {
   "codemirror_mode": {
    "name": "ipython",
    "version": 3
   },
   "file_extension": ".py",
   "mimetype": "text/x-python",
   "name": "python",
   "nbconvert_exporter": "python",
   "pygments_lexer": "ipython3",
   "version": "3.9.13"
  }
 },
 "nbformat": 4,
 "nbformat_minor": 5
}
