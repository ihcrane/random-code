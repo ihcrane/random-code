{
 "cells": [
  {
   "cell_type": "code",
   "execution_count": null,
   "id": "7dbb4b77",
   "metadata": {},
   "outputs": [],
   "source": [
    "a = set(map(int, input().split()))\n",
    "num_sets = int(input())\n",
    "verdict = False\n",
    "\n",
    "for i in range(num_sets):\n",
    "    b = set(map(int, input().split()))\n",
    "    if a.issuperset(b):\n",
    "        verdict = True\n",
    "    else:\n",
    "        verdict = False\n",
    "        break\n",
    "\n",
    "print(verdict)\n",
    "    \n"
   ]
  }
 ],
 "metadata": {
  "kernelspec": {
   "display_name": "Python 3 (ipykernel)",
   "language": "python",
   "name": "python3"
  },
  "language_info": {
   "codemirror_mode": {
    "name": "ipython",
    "version": 3
   },
   "file_extension": ".py",
   "mimetype": "text/x-python",
   "name": "python",
   "nbconvert_exporter": "python",
   "pygments_lexer": "ipython3",
   "version": "3.9.13"
  }
 },
 "nbformat": 4,
 "nbformat_minor": 5
}
