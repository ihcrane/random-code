{
 "cells": [
  {
   "cell_type": "code",
   "execution_count": 72,
   "id": "090e0128",
   "metadata": {},
   "outputs": [
    {
     "name": "stdout",
     "output_type": "stream",
     "text": [
      "BANANA\n",
      "Stuart 12\n"
     ]
    }
   ],
   "source": [
    "word = input()\n",
    "stuart = 0\n",
    "kevin = 0\n",
    "len_s = len(word)\n",
    "vowels = ['A','E','I','O','U']\n",
    "\n",
    "stuart_str = set([])\n",
    "kevin_str = set([])\n",
    "\n",
    "for i in range(len_s):\n",
    "    if word[i] in vowels:\n",
    "        kevin_str.update([word[i]])\n",
    "        for n in range(i, len_s):\n",
    "            kevin_str.update([word[i:n+1]])\n",
    "    else:\n",
    "        stuart_str.update([word[i]])\n",
    "        for n in range(i, len_s):\n",
    "            stuart_str.update([word[i:n+1]])\n",
    "\n",
    "\n",
    "def count_substrings(string, substring):\n",
    "    string_size = len(string)\n",
    "    substring_size = len(substring)\n",
    "    count = 0\n",
    "    for i in range(0,string_size-substring_size+1):\n",
    "        if string[i:i+substring_size] == substring:\n",
    "            count+=1\n",
    "    return count\n",
    "\n",
    "for i in kevin_str:\n",
    "    kevin += count_substrings(string, i)\n",
    "\n",
    "for i in stuart_str:\n",
    "    stuart += count_substrings(string, i)\n",
    "\n",
    "if kevin > stuart:\n",
    "    print('Kevin', kevin)\n",
    "elif stuart > kevin:\n",
    "    print('Stuart', stuart)\n",
    "else:\n",
    "    print('Draw')\n",
    "    \n"
   ]
  }
 ],
 "metadata": {
  "kernelspec": {
   "display_name": "Python 3 (ipykernel)",
   "language": "python",
   "name": "python3"
  },
  "language_info": {
   "codemirror_mode": {
    "name": "ipython",
    "version": 3
   },
   "file_extension": ".py",
   "mimetype": "text/x-python",
   "name": "python",
   "nbconvert_exporter": "python",
   "pygments_lexer": "ipython3",
   "version": "3.9.13"
  }
 },
 "nbformat": 4,
 "nbformat_minor": 5
}
