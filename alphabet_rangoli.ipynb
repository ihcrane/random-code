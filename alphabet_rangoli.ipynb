{
 "cells": [
  {
   "cell_type": "code",
   "execution_count": 73,
   "id": "e6f4f458",
   "metadata": {},
   "outputs": [
    {
     "name": "stdout",
     "output_type": "stream",
     "text": [
      "22\n",
      "------------------------------------------v------------------------------------------\n",
      "----------------------------------------v-u-v----------------------------------------\n",
      "--------------------------------------v-u-t-u-v--------------------------------------\n",
      "------------------------------------v-u-t-s-t-u-v------------------------------------\n",
      "----------------------------------v-u-t-s-r-s-t-u-v----------------------------------\n",
      "--------------------------------v-u-t-s-r-q-r-s-t-u-v--------------------------------\n",
      "------------------------------v-u-t-s-r-q-p-q-r-s-t-u-v------------------------------\n",
      "----------------------------v-u-t-s-r-q-p-o-p-q-r-s-t-u-v----------------------------\n",
      "--------------------------v-u-t-s-r-q-p-o-n-o-p-q-r-s-t-u-v--------------------------\n",
      "------------------------v-u-t-s-r-q-p-o-n-m-n-o-p-q-r-s-t-u-v------------------------\n",
      "----------------------v-u-t-s-r-q-p-o-n-m-l-m-n-o-p-q-r-s-t-u-v----------------------\n",
      "--------------------v-u-t-s-r-q-p-o-n-m-l-k-l-m-n-o-p-q-r-s-t-u-v--------------------\n",
      "------------------v-u-t-s-r-q-p-o-n-m-l-k-j-k-l-m-n-o-p-q-r-s-t-u-v------------------\n",
      "----------------v-u-t-s-r-q-p-o-n-m-l-k-j-i-j-k-l-m-n-o-p-q-r-s-t-u-v----------------\n",
      "--------------v-u-t-s-r-q-p-o-n-m-l-k-j-i-h-i-j-k-l-m-n-o-p-q-r-s-t-u-v--------------\n",
      "------------v-u-t-s-r-q-p-o-n-m-l-k-j-i-h-g-h-i-j-k-l-m-n-o-p-q-r-s-t-u-v------------\n",
      "----------v-u-t-s-r-q-p-o-n-m-l-k-j-i-h-g-f-g-h-i-j-k-l-m-n-o-p-q-r-s-t-u-v----------\n",
      "--------v-u-t-s-r-q-p-o-n-m-l-k-j-i-h-g-f-e-f-g-h-i-j-k-l-m-n-o-p-q-r-s-t-u-v--------\n",
      "------v-u-t-s-r-q-p-o-n-m-l-k-j-i-h-g-f-e-d-e-f-g-h-i-j-k-l-m-n-o-p-q-r-s-t-u-v------\n",
      "----v-u-t-s-r-q-p-o-n-m-l-k-j-i-h-g-f-e-d-c-d-e-f-g-h-i-j-k-l-m-n-o-p-q-r-s-t-u-v----\n",
      "--v-u-t-s-r-q-p-o-n-m-l-k-j-i-h-g-f-e-d-c-b-c-d-e-f-g-h-i-j-k-l-m-n-o-p-q-r-s-t-u-v--\n",
      "v-u-t-s-r-q-p-o-n-m-l-k-j-i-h-g-f-e-d-c-b-a-b-c-d-e-f-g-h-i-j-k-l-m-n-o-p-q-r-s-t-u-v\n",
      "--v-u-t-s-r-q-p-o-n-m-l-k-j-i-h-g-f-e-d-c-b-c-d-e-f-g-h-i-j-k-l-m-n-o-p-q-r-s-t-u-v--\n",
      "----v-u-t-s-r-q-p-o-n-m-l-k-j-i-h-g-f-e-d-c-d-e-f-g-h-i-j-k-l-m-n-o-p-q-r-s-t-u-v----\n",
      "------v-u-t-s-r-q-p-o-n-m-l-k-j-i-h-g-f-e-d-e-f-g-h-i-j-k-l-m-n-o-p-q-r-s-t-u-v------\n",
      "--------v-u-t-s-r-q-p-o-n-m-l-k-j-i-h-g-f-e-f-g-h-i-j-k-l-m-n-o-p-q-r-s-t-u-v--------\n",
      "----------v-u-t-s-r-q-p-o-n-m-l-k-j-i-h-g-f-g-h-i-j-k-l-m-n-o-p-q-r-s-t-u-v----------\n",
      "------------v-u-t-s-r-q-p-o-n-m-l-k-j-i-h-g-h-i-j-k-l-m-n-o-p-q-r-s-t-u-v------------\n",
      "--------------v-u-t-s-r-q-p-o-n-m-l-k-j-i-h-i-j-k-l-m-n-o-p-q-r-s-t-u-v--------------\n",
      "----------------v-u-t-s-r-q-p-o-n-m-l-k-j-i-j-k-l-m-n-o-p-q-r-s-t-u-v----------------\n",
      "------------------v-u-t-s-r-q-p-o-n-m-l-k-j-k-l-m-n-o-p-q-r-s-t-u-v------------------\n",
      "--------------------v-u-t-s-r-q-p-o-n-m-l-k-l-m-n-o-p-q-r-s-t-u-v--------------------\n",
      "----------------------v-u-t-s-r-q-p-o-n-m-l-m-n-o-p-q-r-s-t-u-v----------------------\n",
      "------------------------v-u-t-s-r-q-p-o-n-m-n-o-p-q-r-s-t-u-v------------------------\n",
      "--------------------------v-u-t-s-r-q-p-o-n-o-p-q-r-s-t-u-v--------------------------\n",
      "----------------------------v-u-t-s-r-q-p-o-p-q-r-s-t-u-v----------------------------\n",
      "------------------------------v-u-t-s-r-q-p-q-r-s-t-u-v------------------------------\n",
      "--------------------------------v-u-t-s-r-q-r-s-t-u-v--------------------------------\n",
      "----------------------------------v-u-t-s-r-s-t-u-v----------------------------------\n",
      "------------------------------------v-u-t-s-t-u-v------------------------------------\n",
      "--------------------------------------v-u-t-u-v--------------------------------------\n",
      "----------------------------------------v-u-v----------------------------------------\n",
      "------------------------------------------v------------------------------------------\n"
     ]
    }
   ],
   "source": [
    "alphabet = 'abcdefghijklmnopqrstuvwxyz'\n",
    "num = int(input())\n",
    "\n",
    "d = '-'\n",
    "num_dash = (num*2)-2\n",
    "lis = []\n",
    "\n",
    "for i in range(num):\n",
    "    string = ''\n",
    "    for n in range(i+1):\n",
    "        string = string + alphabet[num-n-1] + '-'\n",
    "    s = alphabet[num-i:num].replace('','-')\n",
    "    lis.append((d*num_dash)+string[:-1]+s[:-1]+(d*(num_dash)))\n",
    "    print((d*num_dash)+string[:-1]+s[:-1]+(d*(num_dash)))\n",
    "    num_dash -= 2\n",
    "\n",
    "\n",
    "for i in range(num-1):\n",
    "    print(lis[-2-i])"
   ]
  },
  {
   "cell_type": "code",
   "execution_count": null,
   "id": "62e727c2",
   "metadata": {},
   "outputs": [],
   "source": []
  }
 ],
 "metadata": {
  "kernelspec": {
   "display_name": "Python 3 (ipykernel)",
   "language": "python",
   "name": "python3"
  },
  "language_info": {
   "codemirror_mode": {
    "name": "ipython",
    "version": 3
   },
   "file_extension": ".py",
   "mimetype": "text/x-python",
   "name": "python",
   "nbconvert_exporter": "python",
   "pygments_lexer": "ipython3",
   "version": "3.9.13"
  }
 },
 "nbformat": 4,
 "nbformat_minor": 5
}
